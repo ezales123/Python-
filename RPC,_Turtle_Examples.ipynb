{
  "cells": [
    {
      "cell_type": "markdown",
      "metadata": {
        "id": "view-in-github",
        "colab_type": "text"
      },
      "source": [
        "<a href=\"https://colab.research.google.com/github/ezales123/Python-/blob/main/RPC%2C_Turtle_Examples.ipynb\" target=\"_parent\"><img src=\"https://colab.research.google.com/assets/colab-badge.svg\" alt=\"Open In Colab\"/></a>"
      ]
    },
    {
      "cell_type": "code",
      "execution_count": null,
      "metadata": {
        "colab": {
          "base_uri": "https://localhost:8080/"
        },
        "id": "6604h_geFOyP",
        "outputId": "e9386f97-6885-4a2d-d821-f06d238d52d7"
      },
      "outputs": [
        {
          "name": "stdout",
          "output_type": "stream",
          "text": [
            "select rock, paper or scissors:rock\n",
            "rock\n",
            "computer choice: (pc_choice)\n",
            "tie\n"
          ]
        }
      ],
      "source": [
        "import random\n",
        "pc_choice=random.choice(['rock','paper','scissors'])\n",
        "user_choice=input('select rock, paper or scissors:')\n",
        "print(user_choice)\n",
        "print('computer choice: (pc_choice)')\n",
        "if pc_choice=='rock' and user_choice=='rock':\n",
        "  print('tie')\n",
        "elif pc_choice=='paper' and user_choice=='paper':\n",
        "  print('tie')\n",
        "elif pc_choice=='scissors' and user_choice=='scissors':\n",
        "  print('tie')\n",
        "elif pc_choice=='rock' and user_choice=='paper':\n",
        "  print('user wins')\n",
        "elif pc_choice=='paper' and user_choice=='scissors':\n",
        "  print('user wins')\n",
        "elif pc_choice==('scissors') and user_choice=='rock':\n",
        "  print('user wins')\n",
        "elif pc_choice=='rock' and user_choice=='scissors':\n",
        "  print('pc wins')\n",
        "elif pc_choice=='paper' and user_choice=='rock':\n",
        "  print('pc wins')\n",
        "elif pc_choice=='scissors' and user_choice=='paper':\n",
        "  print('pc wins')"
      ]
    },
    {
      "cell_type": "code",
      "execution_count": null,
      "metadata": {
        "colab": {
          "background_save": true,
          "base_uri": "https://localhost:8080/"
        },
        "id": "BZp58fTwNErx",
        "outputId": "740fa696-f872-4d87-ad47-aabf4a1ed14c"
      },
      "outputs": [
        {
          "name": "stdout",
          "output_type": "stream",
          "text": [
            "player wins! player chose scissors and computer chose paper\n"
          ]
        }
      ],
      "source": [
        "import random\n",
        "\n",
        "userinput= input('Do you want to play the game y/n')\n",
        "while userinput == \"y\":\n",
        "  Player = input(\"Enter rock, paper, or scissors: \")\n",
        "  Pc = random.choice(['rock', 'paper', 'scissors'])\n",
        "\n",
        "  if Player == Pc:\n",
        "    print(f\"Tie player chose {Player} and computer chose {Pc}\")\n",
        "  elif Player == \"rock\" and Pc == \"scissors\" or Player == \"paper\" and Pc == \"rock\" or Player == \"scissors\" and Pc == \"paper\":\n",
        "    print(f\"player wins! player chose {Player} and computer chose {Pc}\")\n",
        "  else:\n",
        "    print(f\"players loses! player chose {Player} and computer chose {Pc}\")\n",
        "  userinput = input('Do you want to play the game y/n - ')"
      ]
    },
    {
      "cell_type": "code",
      "execution_count": null,
      "metadata": {
        "id": "tZJ00_b2O1VK"
      },
      "outputs": [],
      "source": []
    },
    {
      "cell_type": "code",
      "execution_count": null,
      "metadata": {
        "colab": {
          "base_uri": "https://localhost:8080/"
        },
        "id": "twle3a1VhkLK",
        "outputId": "7e7f9a19-a901-498c-c65a-4ee2c50585ff"
      },
      "outputs": [
        {
          "name": "stdout",
          "output_type": "stream",
          "text": [
            "Requirement already satisfied: ColabTurtlePlus in /usr/local/lib/python3.10/dist-packages (2.0.1)\n"
          ]
        }
      ],
      "source": [
        "!pip install ColabTurtlePlus"
      ]
    },
    {
      "cell_type": "code",
      "execution_count": null,
      "metadata": {
        "colab": {
          "base_uri": "https://localhost:8080/",
          "height": 621
        },
        "id": "0EJbAuJrh9Rz",
        "outputId": "44671db4-6ce1-43f0-e79c-f975f12f7ded"
      },
      "outputs": [
        {
          "data": {
            "text/html": [
              "\n",
              "      <svg width=\"800\" height=\"600\">  \n",
              "        <rect width=\"100%\" height=\"100%\" style=\"fill:white;stroke:;stroke-width:1\"/>\n",
              "        \n",
              "        \n",
              "        <path fill-rule=\"evenodd\" fill-opacity=\"1\" d=\"M 400.0 300.0  L 400.0 300.0  L 500.0 300.0  L 500.0 200.0  L 400.0 200.0  L 400.0 300.0 \" stroke-linecap=\"round\" style=\"stroke:black;stroke-width:1\" fill=\"green\" />\n",
              "        \n",
              "        \n",
              "        <g id=\"classic\" visibility=\"visible\" transform=\"rotate(-90,400.0,300.0) translate(400.0, 300.0)\">\n",
              "<polygon points=\"-5,-4.5 0,-2.5 5,-4.5 0,4.5\" transform=\"skewX(0) scale(1,1)\" style=\"stroke:black;fill:green;stroke-width:1\" />\n",
              "</g>\n",
              "      </svg>\n",
              "    "
            ],
            "text/plain": [
              "<IPython.core.display.HTML object>"
            ]
          },
          "metadata": {},
          "output_type": "display_data"
        }
      ],
      "source": [
        "from ColabTurtlePlus.Turtle import *\n",
        "\n",
        "clearscreen()\n",
        "\n",
        "color('black','green')\n",
        "begin_fill()\n",
        "jumpto(0,0)\n",
        "\n",
        "for var in range(4):\n",
        "  forward(100)\n",
        "  left(90)\n",
        "\n",
        "\n",
        "end_fill()"
      ]
    },
    {
      "cell_type": "code",
      "execution_count": null,
      "metadata": {
        "colab": {
          "base_uri": "https://localhost:8080/"
        },
        "id": "EqwtZEx6n1uf",
        "outputId": "a24d8392-6755-48b2-cec9-e6864f873b2b"
      },
      "outputs": [
        {
          "name": "stdout",
          "output_type": "stream",
          "text": [
            "5\n",
            "15\n",
            "25\n",
            "35\n"
          ]
        }
      ],
      "source": [
        "for i in range(5, 40, 10):\n",
        "    print(i)"
      ]
    }
  ],
  "metadata": {
    "colab": {
      "provenance": [],
      "authorship_tag": "ABX9TyNPMCs8nmBvtSnrxauJtnsD",
      "include_colab_link": true
    },
    "kernelspec": {
      "display_name": "Python 3",
      "name": "python3"
    },
    "language_info": {
      "name": "python"
    }
  },
  "nbformat": 4,
  "nbformat_minor": 0
}