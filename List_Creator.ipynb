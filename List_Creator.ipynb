{
  "nbformat": 4,
  "nbformat_minor": 0,
  "metadata": {
    "colab": {
      "provenance": [],
      "authorship_tag": "ABX9TyPgKIHJn7ZwuWOA1mrM8ykm",
      "include_colab_link": true
    },
    "kernelspec": {
      "name": "python3",
      "display_name": "Python 3"
    },
    "language_info": {
      "name": "python"
    }
  },
  "cells": [
    {
      "cell_type": "markdown",
      "metadata": {
        "id": "view-in-github",
        "colab_type": "text"
      },
      "source": [
        "<a href=\"https://colab.research.google.com/github/ezales123/Python-/blob/main/List_Creator.ipynb\" target=\"_parent\"><img src=\"https://colab.research.google.com/assets/colab-badge.svg\" alt=\"Open In Colab\"/></a>"
      ]
    },
    {
      "cell_type": "code",
      "execution_count": 1,
      "metadata": {
        "id": "2l05tC_CJ4wU",
        "outputId": "2616cb13-d6ba-45be-c14b-6168975ec7e6",
        "colab": {
          "base_uri": "https://localhost:8080/"
        }
      },
      "outputs": [
        {
          "output_type": "stream",
          "name": "stdout",
          "text": [
            "Enter a value: 7\n",
            "Enter a value: 8\n",
            "Enter a value: 4\n",
            "Enter a value: 8\n",
            "Enter a value: 0\n",
            "[7, 8, 4, 8]\n"
          ]
        }
      ],
      "source": [
        "a = 1\n",
        "L = []\n",
        "\n",
        "a = int(input('Enter a value: '))\n",
        "while a !=0:\n",
        "  L.append(a)\n",
        "  a = int(input('Enter a value: '))\n",
        "print(L)"
      ]
    }
  ]
}