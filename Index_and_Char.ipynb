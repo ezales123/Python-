{
  "nbformat": 4,
  "nbformat_minor": 0,
  "metadata": {
    "colab": {
      "provenance": [],
      "authorship_tag": "ABX9TyN7Mp/5aE73zLkGZ2KWDKOD",
      "include_colab_link": true
    },
    "kernelspec": {
      "name": "python3",
      "display_name": "Python 3"
    },
    "language_info": {
      "name": "python"
    }
  },
  "cells": [
    {
      "cell_type": "markdown",
      "metadata": {
        "id": "view-in-github",
        "colab_type": "text"
      },
      "source": [
        "<a href=\"https://colab.research.google.com/github/ezales123/Python-/blob/main/Index_and_Char.ipynb\" target=\"_parent\"><img src=\"https://colab.research.google.com/assets/colab-badge.svg\" alt=\"Open In Colab\"/></a>"
      ]
    },
    {
      "cell_type": "code",
      "execution_count": 5,
      "metadata": {
        "colab": {
          "base_uri": "https://localhost:8080/"
        },
        "id": "eqar8yJIVO_g",
        "outputId": "e68cd766-998e-4b6c-bed3-d67562553738"
      },
      "outputs": [
        {
          "output_type": "stream",
          "name": "stdout",
          "text": [
            "a\n",
            "b\n",
            "d\n",
            "g\n",
            "a\n",
            "b\n",
            "d\n",
            "g\n"
          ]
        }
      ],
      "source": [
        "s1 = 'abcdefg'\n",
        "s2 = 'abdght'\n",
        "\n",
        "for index in range(len(s1)):\n",
        "  if s1[index] in s2:\n",
        "    print(s1[index])\n",
        "\n",
        "for char in s1:\n",
        "  if char in (s2):\n",
        "    print(char)"
      ]
    }
  ]
}