{
  "nbformat": 4,
  "nbformat_minor": 0,
  "metadata": {
    "colab": {
      "provenance": [],
      "authorship_tag": "ABX9TyMH7px3O7OCtIhYF2zWzD6Q",
      "include_colab_link": true
    },
    "kernelspec": {
      "name": "python3",
      "display_name": "Python 3"
    },
    "language_info": {
      "name": "python"
    }
  },
  "cells": [
    {
      "cell_type": "markdown",
      "metadata": {
        "id": "view-in-github",
        "colab_type": "text"
      },
      "source": [
        "<a href=\"https://colab.research.google.com/github/ezales123/Python-/blob/main/MM_DD_YYYY.ipynb\" target=\"_parent\"><img src=\"https://colab.research.google.com/assets/colab-badge.svg\" alt=\"Open In Colab\"/></a>"
      ]
    },
    {
      "cell_type": "code",
      "execution_count": 1,
      "metadata": {
        "colab": {
          "base_uri": "https://localhost:8080/"
        },
        "id": "ZBAZEwkL_Ukv",
        "outputId": "b08fe6b7-4cea-4dc7-a6f9-4b754c453b44"
      },
      "outputs": [
        {
          "output_type": "stream",
          "name": "stdout",
          "text": [
            "Enter date (MM/DD/YYYY): 12/23/2002\n",
            "12/23/2002\n",
            "Month is 12\n",
            "Day is 23\n",
            "Year is 2002\n"
          ]
        }
      ],
      "source": [
        "userinput = input('Enter date (MM/DD/YYYY): ')\n",
        "print(userinput)\n",
        "month = userinput [0:2]\n",
        "day = userinput [3:5]\n",
        "year = userinput [6:10]\n",
        "print('Month is', month)\n",
        "print('Day is', day)\n",
        "print('Year is', year)"
      ]
    }
  ]
}