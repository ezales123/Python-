{
  "nbformat": 4,
  "nbformat_minor": 0,
  "metadata": {
    "colab": {
      "provenance": [],
      "authorship_tag": "ABX9TyP5uAomsTkk3tKwMJbM56o1",
      "include_colab_link": true
    },
    "kernelspec": {
      "name": "python3",
      "display_name": "Python 3"
    },
    "language_info": {
      "name": "python"
    }
  },
  "cells": [
    {
      "cell_type": "markdown",
      "metadata": {
        "id": "view-in-github",
        "colab_type": "text"
      },
      "source": [
        "<a href=\"https://colab.research.google.com/github/ezales123/Python-/blob/main/Lecture_9_Example.ipynb\" target=\"_parent\"><img src=\"https://colab.research.google.com/assets/colab-badge.svg\" alt=\"Open In Colab\"/></a>"
      ]
    },
    {
      "cell_type": "code",
      "execution_count": null,
      "metadata": {
        "id": "QfJNVGRU5yb0"
      },
      "outputs": [],
      "source": [
        "class Aminal:\n",
        "  # This is the constructor method; used to intiialize data (a.k.a. attributes)\n",
        "  # Every time we create a new instance (a.k.a. object) of the class\n",
        "  def __init__(self, sound, genus, animate, dims, diet):\n",
        "    self.sound = sound # This is an instance attribute\n",
        "    self.genus = genus\n",
        "    self.animate = animate\n",
        "    self.dims = dims\n",
        "    self.diet = diet"
      ]
    }
  ]
}