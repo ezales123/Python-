{
  "cells": [
    {
      "cell_type": "markdown",
      "metadata": {
        "id": "view-in-github",
        "colab_type": "text"
      },
      "source": [
        "<a href=\"https://colab.research.google.com/github/ezales123/Python-/blob/main/Examples.ipynb\" target=\"_parent\"><img src=\"https://colab.research.google.com/assets/colab-badge.svg\" alt=\"Open In Colab\"/></a>"
      ]
    },
    {
      "cell_type": "code",
      "execution_count": null,
      "metadata": {
        "colab": {
          "base_uri": "https://localhost:8080/"
        },
        "id": "6604h_geFOyP",
        "outputId": "e9386f97-6885-4a2d-d821-f06d238d52d7"
      },
      "outputs": [
        {
          "name": "stdout",
          "output_type": "stream",
          "text": [
            "select rock, paper or scissors:rock\n",
            "rock\n",
            "computer choice: (pc_choice)\n",
            "tie\n"
          ]
        }
      ],
      "source": [
        "import random\n",
        "pc_choice=random.choice(['rock','paper','scissors'])\n",
        "user_choice=input('select rock, paper or scissors:')\n",
        "print(user_choice)\n",
        "print('computer choice: (pc_choice)')\n",
        "if pc_choice=='rock' and user_choice=='rock':\n",
        "  print('tie')\n",
        "elif pc_choice=='paper' and user_choice=='paper':\n",
        "  print('tie')\n",
        "elif pc_choice=='scissors' and user_choice=='scissors':\n",
        "  print('tie')\n",
        "elif pc_choice=='rock' and user_choice=='paper':\n",
        "  print('user wins')\n",
        "elif pc_choice=='paper' and user_choice=='scissors':\n",
        "  print('user wins')\n",
        "elif pc_choice==('scissors') and user_choice=='rock':\n",
        "  print('user wins')\n",
        "elif pc_choice=='rock' and user_choice=='scissors':\n",
        "  print('pc wins')\n",
        "elif pc_choice=='paper' and user_choice=='rock':\n",
        "  print('pc wins')\n",
        "elif pc_choice=='scissors' and user_choice=='paper':\n",
        "  print('pc wins')"
      ]
    },
    {
      "cell_type": "code",
      "execution_count": null,
      "metadata": {
        "colab": {
          "background_save": true,
          "base_uri": "https://localhost:8080/"
        },
        "id": "BZp58fTwNErx",
        "outputId": "740fa696-f872-4d87-ad47-aabf4a1ed14c"
      },
      "outputs": [
        {
          "name": "stdout",
          "output_type": "stream",
          "text": [
            "player wins! player chose scissors and computer chose paper\n"
          ]
        }
      ],
      "source": [
        "import random\n",
        "\n",
        "userinput= input('Do you want to play the game y/n')\n",
        "while userinput == \"y\":\n",
        "  Player = input(\"Enter rock, paper, or scissors: \")\n",
        "  Pc = random.choice(['rock', 'paper', 'scissors'])\n",
        "\n",
        "  if Player == Pc:\n",
        "    print(f\"Tie player chose {Player} and computer chose {Pc}\")\n",
        "  elif Player == \"rock\" and Pc == \"scissors\" or Player == \"paper\" and Pc == \"rock\" or Player == \"scissors\" and Pc == \"paper\":\n",
        "    print(f\"player wins! player chose {Player} and computer chose {Pc}\")\n",
        "  else:\n",
        "    print(f\"players loses! player chose {Player} and computer chose {Pc}\")\n",
        "  userinput = input('Do you want to play the game y/n - ')"
      ]
    },
    {
      "cell_type": "code",
      "execution_count": null,
      "metadata": {
        "id": "tZJ00_b2O1VK"
      },
      "outputs": [],
      "source": []
    },
    {
      "cell_type": "code",
      "execution_count": null,
      "metadata": {
        "colab": {
          "base_uri": "https://localhost:8080/"
        },
        "id": "twle3a1VhkLK",
        "outputId": "7e7f9a19-a901-498c-c65a-4ee2c50585ff"
      },
      "outputs": [
        {
          "name": "stdout",
          "output_type": "stream",
          "text": [
            "Requirement already satisfied: ColabTurtlePlus in /usr/local/lib/python3.10/dist-packages (2.0.1)\n"
          ]
        }
      ],
      "source": [
        "!pip install ColabTurtlePlus"
      ]
    },
    {
      "cell_type": "code",
      "execution_count": null,
      "metadata": {
        "colab": {
          "base_uri": "https://localhost:8080/",
          "height": 621
        },
        "id": "0EJbAuJrh9Rz",
        "outputId": "44671db4-6ce1-43f0-e79c-f975f12f7ded"
      },
      "outputs": [
        {
          "data": {
            "text/html": [
              "\n",
              "      <svg width=\"800\" height=\"600\">  \n",
              "        <rect width=\"100%\" height=\"100%\" style=\"fill:white;stroke:;stroke-width:1\"/>\n",
              "        \n",
              "        \n",
              "        <path fill-rule=\"evenodd\" fill-opacity=\"1\" d=\"M 400.0 300.0  L 400.0 300.0  L 500.0 300.0  L 500.0 200.0  L 400.0 200.0  L 400.0 300.0 \" stroke-linecap=\"round\" style=\"stroke:black;stroke-width:1\" fill=\"green\" />\n",
              "        \n",
              "        \n",
              "        <g id=\"classic\" visibility=\"visible\" transform=\"rotate(-90,400.0,300.0) translate(400.0, 300.0)\">\n",
              "<polygon points=\"-5,-4.5 0,-2.5 5,-4.5 0,4.5\" transform=\"skewX(0) scale(1,1)\" style=\"stroke:black;fill:green;stroke-width:1\" />\n",
              "</g>\n",
              "      </svg>\n",
              "    "
            ],
            "text/plain": [
              "<IPython.core.display.HTML object>"
            ]
          },
          "metadata": {},
          "output_type": "display_data"
        }
      ],
      "source": [
        "from ColabTurtlePlus.Turtle import *\n",
        "\n",
        "clearscreen()\n",
        "\n",
        "color('black','green')\n",
        "begin_fill()\n",
        "jumpto(0,0)\n",
        "\n",
        "for var in range(4):\n",
        "  forward(100)\n",
        "  left(90)\n",
        "\n",
        "\n",
        "end_fill()"
      ]
    },
    {
      "cell_type": "code",
      "execution_count": null,
      "metadata": {
        "colab": {
          "base_uri": "https://localhost:8080/"
        },
        "id": "EqwtZEx6n1uf",
        "outputId": "a24d8392-6755-48b2-cec9-e6864f873b2b"
      },
      "outputs": [
        {
          "name": "stdout",
          "output_type": "stream",
          "text": [
            "5\n",
            "15\n",
            "25\n",
            "35\n"
          ]
        }
      ],
      "source": [
        "for i in range(5, 40, 10):\n",
        "    print(i)"
      ]
    },
    {
      "cell_type": "code",
      "source": [
        "for hour in range (1, 9):\n",
        "  price = (hour*2.5)+5\n",
        "  print('Hours', hour, '-$', price)\n",
        "\n"
      ],
      "metadata": {
        "colab": {
          "base_uri": "https://localhost:8080/"
        },
        "id": "E5RT9SZHnJC3",
        "outputId": "51996d3b-b0ac-4afc-d403-48f10a86c402"
      },
      "execution_count": 1,
      "outputs": [
        {
          "output_type": "stream",
          "name": "stdout",
          "text": [
            "Hours 1 -$ 7.5\n",
            "Hours 2 -$ 10.0\n",
            "Hours 3 -$ 12.5\n",
            "Hours 4 -$ 15.0\n",
            "Hours 5 -$ 17.5\n",
            "Hours 6 -$ 20.0\n",
            "Hours 7 -$ 22.5\n",
            "Hours 8 -$ 25.0\n"
          ]
        }
      ]
    },
    {
      "cell_type": "markdown",
      "source": [
        "A movie theater manager is deciding how much to spend on advertising for an upcoming movie. Each ticket is  10.𝑊𝑖𝑡ℎ𝑜𝑢𝑡𝑎𝑛𝑦𝑎𝑑𝑣𝑒𝑟𝑡𝑖𝑠𝑖𝑛𝑔,20𝑝𝑒𝑜𝑝𝑙𝑒𝑎𝑟𝑒𝑓𝑜𝑟𝑒𝑐𝑎𝑠𝑡𝑒𝑑𝑡𝑜𝑎𝑡𝑡𝑒𝑛𝑑.𝐴𝑑𝑑𝑖𝑡𝑜𝑛𝑎𝑙𝑝𝑒𝑜𝑝𝑙𝑒𝑚𝑎𝑦𝑎𝑡𝑡𝑒𝑛𝑑𝑏𝑎𝑠𝑒𝑑𝑜𝑛𝑎𝑑𝑣𝑒𝑟𝑡𝑖𝑠𝑖𝑛𝑔𝑠𝑝𝑒𝑛𝑑𝑖𝑛𝑔.𝑒𝑠𝑡𝑖𝑚𝑎𝑡𝑒𝑑𝑡𝑜𝑏𝑒:𝐴𝑑𝑑𝑖𝑡𝑖𝑜𝑛𝑎𝑙𝑎𝑡𝑡𝑒𝑛𝑑𝑒𝑒𝑠=2𝑥𝑟𝑜𝑢𝑛𝑑(𝑎𝑑𝑣𝑒𝑟𝑖𝑡𝑖𝑠𝑖𝑛𝑔𝐷𝑜𝑙𝑙𝑎𝑟𝑠.5)𝑖𝑛𝑎𝑑𝑑𝑖𝑡𝑜𝑛𝑡𝑜𝑎𝑑𝑣𝑒𝑟𝑡𝑖𝑠𝑖𝑛𝑔𝑐𝑜𝑠𝑡𝑠,𝑡ℎ𝑒𝑟𝑒𝑎𝑟𝑒𝑓𝑖𝑥𝑒𝑑𝑐𝑜𝑠𝑡𝑠𝑡𝑜𝑟𝑢𝑛𝑡ℎ𝑒𝑡ℎ𝑒𝑎𝑡𝑒𝑟𝑜𝑓"
      ],
      "metadata": {
        "id": "BuAqpTwDnR07"
      }
    },
    {
      "cell_type": "code",
      "source": [
        "x=10\n",
        "a=20\n",
        "f=200\n",
        "for n in range (0, 201, 25):\n",
        "  additonal = 2*round(n**0.5)."
      ],
      "metadata": {
        "id": "n75V0Hk1nT-a"
      },
      "execution_count": null,
      "outputs": []
    }
  ],
  "metadata": {
    "colab": {
      "provenance": [],
      "authorship_tag": "ABX9TyMm6YWHK7rYtmD+fCxyn+dn",
      "include_colab_link": true
    },
    "kernelspec": {
      "display_name": "Python 3",
      "name": "python3"
    },
    "language_info": {
      "name": "python"
    }
  },
  "nbformat": 4,
  "nbformat_minor": 0
}