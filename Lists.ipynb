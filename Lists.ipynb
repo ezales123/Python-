{
  "nbformat": 4,
  "nbformat_minor": 0,
  "metadata": {
    "colab": {
      "provenance": [],
      "authorship_tag": "ABX9TyNGWuaUHPWQeGumV1yo0+Lt",
      "include_colab_link": true
    },
    "kernelspec": {
      "name": "python3",
      "display_name": "Python 3"
    },
    "language_info": {
      "name": "python"
    }
  },
  "cells": [
    {
      "cell_type": "markdown",
      "metadata": {
        "id": "view-in-github",
        "colab_type": "text"
      },
      "source": [
        "<a href=\"https://colab.research.google.com/github/ezales123/Python-/blob/main/Lists.ipynb\" target=\"_parent\"><img src=\"https://colab.research.google.com/assets/colab-badge.svg\" alt=\"Open In Colab\"/></a>"
      ]
    },
    {
      "cell_type": "code",
      "execution_count": 2,
      "metadata": {
        "colab": {
          "base_uri": "https://localhost:8080/"
        },
        "id": "u_VltvPa-IiO",
        "outputId": "0c90a71f-6d4e-40f2-a189-17df2455550a"
      },
      "outputs": [
        {
          "output_type": "execute_result",
          "data": {
            "text/plain": [
              "5"
            ]
          },
          "metadata": {},
          "execution_count": 2
        }
      ],
      "source": [
        "L = [1, 'two', 3.0, print, [5, 7, 9]]\n",
        "len(L)"
      ]
    },
    {
      "cell_type": "code",
      "source": [
        "L + ['three']"
      ],
      "metadata": {
        "colab": {
          "base_uri": "https://localhost:8080/"
        },
        "id": "EQ87zMgi-ZUF",
        "outputId": "dc37e9fb-cd16-4fef-b009-a2d3924dd51a"
      },
      "execution_count": 3,
      "outputs": [
        {
          "output_type": "execute_result",
          "data": {
            "text/plain": [
              "[1, 'two', 3.0, <function print>, [5, 7, 9], 'three']"
            ]
          },
          "metadata": {},
          "execution_count": 3
        }
      ]
    },
    {
      "cell_type": "code",
      "source": [
        "L.append('three')\n",
        "L"
      ],
      "metadata": {
        "colab": {
          "base_uri": "https://localhost:8080/"
        },
        "id": "zE76IAJbAbX1",
        "outputId": "c3c5793b-e1f8-42cb-cc12-ee6740df10c5"
      },
      "execution_count": 4,
      "outputs": [
        {
          "output_type": "execute_result",
          "data": {
            "text/plain": [
              "[1, 'two', 3.0, <function print>, [5, 7, 9], 'three']"
            ]
          },
          "metadata": {},
          "execution_count": 4
        }
      ]
    },
    {
      "cell_type": "code",
      "source": [
        "L.extend(['three', 4])\n",
        "L, len(L)"
      ],
      "metadata": {
        "colab": {
          "base_uri": "https://localhost:8080/"
        },
        "id": "tT-6Rt18BcJ0",
        "outputId": "e719ef56-bf8f-40d5-d9a4-ce777da8cf65"
      },
      "execution_count": 6,
      "outputs": [
        {
          "output_type": "execute_result",
          "data": {
            "text/plain": [
              "([1, 'two', 3.0, <function print>, [5, 7, 9], 'three', 'three', 4], 8)"
            ]
          },
          "metadata": {},
          "execution_count": 6
        }
      ]
    },
    {
      "cell_type": "code",
      "source": [
        "L.pop()\n",
        "L"
      ],
      "metadata": {
        "colab": {
          "base_uri": "https://localhost:8080/"
        },
        "id": "5kOOh7qADe7n",
        "outputId": "bf339514-5e2a-4e51-b6ac-2ee0699e52d9"
      },
      "execution_count": 7,
      "outputs": [
        {
          "output_type": "execute_result",
          "data": {
            "text/plain": [
              "[1, 'two', 3.0, <function print>, [5, 7, 9], 'three', 'three']"
            ]
          },
          "metadata": {},
          "execution_count": 7
        }
      ]
    },
    {
      "cell_type": "code",
      "source": [
        "a = 1\n",
        "L = []\n",
        "\n",
        "a = int(input('Enter a value: '))\n",
        "while a !=0:\n",
        "  L.append(a)\n",
        "  a = int(input('Enter a value: '))\n",
        "  print(L)"
      ],
      "metadata": {
        "colab": {
          "base_uri": "https://localhost:8080/"
        },
        "id": "tta7leasELNf",
        "outputId": "b1998499-9671-4467-d10a-97710e1d65f9"
      },
      "execution_count": 11,
      "outputs": [
        {
          "output_type": "stream",
          "name": "stdout",
          "text": [
            "Enter a value: 1\n",
            "Enter a value: 1\n",
            "[1]\n",
            "Enter a value: 0\n",
            "[1, 1]\n"
          ]
        }
      ]
    }
  ]
}