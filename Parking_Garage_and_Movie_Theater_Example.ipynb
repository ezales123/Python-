{
  "nbformat": 4,
  "nbformat_minor": 0,
  "metadata": {
    "colab": {
      "provenance": [],
      "authorship_tag": "ABX9TyNHEo10kpfh6EPRUV1m6UZI",
      "include_colab_link": true
    },
    "kernelspec": {
      "name": "python3",
      "display_name": "Python 3"
    },
    "language_info": {
      "name": "python"
    }
  },
  "cells": [
    {
      "cell_type": "markdown",
      "metadata": {
        "id": "view-in-github",
        "colab_type": "text"
      },
      "source": [
        "<a href=\"https://colab.research.google.com/github/ezales123/Python-/blob/main/Parking_Garage_and_Movie_Theater_Example.ipynb\" target=\"_parent\"><img src=\"https://colab.research.google.com/assets/colab-badge.svg\" alt=\"Open In Colab\"/></a>"
      ]
    },
    {
      "cell_type": "code",
      "execution_count": null,
      "metadata": {
        "colab": {
          "base_uri": "https://localhost:8080/"
        },
        "id": "6rTLKtPY0yv_",
        "outputId": "3515fc5c-eb50-4bc9-d997-b6e9eb83e1f1"
      },
      "outputs": [
        {
          "output_type": "stream",
          "name": "stdout",
          "text": [
            "Hours 1 -$ 7.5\n",
            "Hours 2 -$ 10.0\n",
            "Hours 3 -$ 12.5\n",
            "Hours 4 -$ 15.0\n",
            "Hours 5 -$ 17.5\n",
            "Hours 6 -$ 20.0\n",
            "Hours 7 -$ 22.5\n",
            "Hours 8 -$ 25.0\n"
          ]
        }
      ],
      "source": [
        "for hour in range (1, 9):\n",
        "  price = (hour*2.5)+5\n",
        "  print('Hours', hour, '-$', price)\n",
        "\n"
      ]
    },
    {
      "cell_type": "markdown",
      "source": [
        "A movie theater manager is deciding how much to spend on advertising for an upcoming movie. Each ticket is $10. Without any advertising, 20 people are forecasted to attend. Additonal people may attend based on advertising spending. estimated to be:\n",
        "Additional attendees = 2 x round(adveritisingDollars^.5)\n",
        "in additon to advertising costs, there are fixed costs to run the theater of $200"
      ],
      "metadata": {
        "id": "YjZmUg818VvZ"
      }
    },
    {
      "cell_type": "code",
      "source": [
        "x=10\n",
        "a=20\n",
        "f=200\n",
        "for n in range (0,201, 25):\n",
        "  additional = 2*round(n**.5)\n",
        "  revenue = (additional + a)*x-f-n\n",
        "  print (n, revenue)"
      ],
      "metadata": {
        "id": "Qk7vh1CS8OJv",
        "colab": {
          "base_uri": "https://localhost:8080/"
        },
        "outputId": "42cb4c31-69b0-4334-bd21-ffe01c603547"
      },
      "execution_count": null,
      "outputs": [
        {
          "output_type": "stream",
          "name": "stdout",
          "text": [
            "0 0\n",
            "25 75\n",
            "50 90\n",
            "75 105\n",
            "100 100\n",
            "125 95\n",
            "150 90\n",
            "175 85\n",
            "200 80\n"
          ]
        }
      ]
    }
  ]
}